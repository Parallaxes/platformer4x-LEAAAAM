{
 "cells": [
  {
   "cell_type": "markdown",
   "metadata": {},
   "source": [
    "---\n",
    "layout: post\n",
    "title: Local Storage Hacks\n",
    "author: Matthew Borg\n",
    "description: Carti once told me that to master Local Storage, you have to complete the following hacks.\n",
    "permalink: /local-storage/Hacks\n",
    "toc: true\n",
    "---"
   ]
  },
  {
   "cell_type": "markdown",
   "metadata": {},
   "source": [
    "# Local storage Hack #1\n",
    "\n",
    "Heres a quick first hack for local storage that can help you understand the basics of it. As seen before, the following code can be used for storing and retrieving data after refreshing the session by local storage.\n",
    "\n"
   ]
  },
  {
   "cell_type": "code",
   "execution_count": null,
   "metadata": {
    "vscode": {
     "languageId": "html"
    }
   },
   "outputs": [],
   "source": [
    "\n",
    "<div>\n",
    "    <button onclick=\"saveData()\">Save Data</button>\n",
    "    <button onclick=\"loadData()\">Load Data</button>\n",
    "    <pre id=\"output\" style=\"border: 1px solid #ccc; padding: 10px; background-color:rgb(15, 15, 15);\"></pre>\n",
    "</div>\n",
    "\n",
    "<script>\n",
    "function saveData() {\n",
    "    localStorage.setItem(\"cat\", \"meow\");\n",
    "    alert(\"Data saved!\");\n",
    "}\n",
    "\n",
    "function loadData() {\n",
    "    const data = localStorage.getItem(\"cat\");\n",
    "    document.getElementById(\"output\").innerText = data ? `Stored data: ${data}` : \"No data found\";\n",
    "}\n",
    "</script>"
   ]
  },
  {
   "cell_type": "markdown",
   "metadata": {},
   "source": [
    "Now, try changing some stuff in the above code, like change cat to anything you want, but most importantly, try to change some parts of the code like change the \"No data found\" to something similar and change some visuals like the color and the sie"
   ]
  },
  {
   "cell_type": "markdown",
   "metadata": {},
   "source": [
    "# Local Storage Hack #2\n",
    "\n"
   ]
  }
 ],
 "metadata": {
  "kernelspec": {
   "display_name": "Python 3",
   "language": "python",
   "name": "python3"
  },
  "language_info": {
   "codemirror_mode": {
    "name": "ipython",
    "version": 3
   },
   "file_extension": ".py",
   "mimetype": "text/x-python",
   "name": "python",
   "nbconvert_exporter": "python",
   "pygments_lexer": "ipython3",
   "version": "3.12.3"
  }
 },
 "nbformat": 4,
 "nbformat_minor": 2
}
