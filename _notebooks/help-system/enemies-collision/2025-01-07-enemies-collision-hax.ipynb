{
 "cells": [
  {
   "cell_type": "raw",
   "metadata": {
    "vscode": {
     "languageId": "raw"
    }
   },
   "source": [
    "---\n",
    "layout: post\n",
    "title: Enemies & Collision Hacks\n",
    "description: Hacks on enemies and collision in the platformer game\n",
    "permalink: help-system/enemies-collision/hax\n",
    "toc: true\n",
    "comments: true\n",
    "authors: Cason Pollak, Veera Kalakota, Ethan Wong\n",
    "---"
   ]
  },
  {
   "cell_type": "markdown",
   "metadata": {},
   "source": [
    "\n",
    "# <span style=\"color: pink; text-shadow: 2px 2px 5px pink;\">Enemies & Collision Hacks</span>"
   ]
  }
 ],
 "metadata": {
  "language_info": {
   "name": "python"
  }
 },
 "nbformat": 4,
 "nbformat_minor": 2
}
