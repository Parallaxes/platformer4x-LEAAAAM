{
 "cells": [
  {
   "cell_type": "raw",
   "metadata": {
    "vscode": {
     "languageId": "raw"
    }
   },
   "source": [
    "---\n",
    "author: Cason Pollak, Veera Kalakota, Ethan Wong\n",
    "layout: post\n",
    "title: Collision with blocks\n",
    "description: Lesson on collision with blocks in the platformer game\n",
    "permalink: /help-system/enemies-collision/blocks\n",
    "toc: true\n",
    "comments: true\n",
    "---"
   ]
  },
  {
   "cell_type": "markdown",
   "metadata": {},
   "source": [
    "\n",
    "# <span style=\"color: purple; text-shadow: 2px 2px 5px purple;\">Collision with blocks</span>"
   ]
  }
 ],
 "metadata": {
  "language_info": {
   "name": "python"
  }
 },
 "nbformat": 4,
 "nbformat_minor": 2
}
