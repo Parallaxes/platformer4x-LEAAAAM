{
 "cells": [
  {
   "cell_type": "code",
   "execution_count": null,
   "metadata": {
    "vscode": {
     "languageId": "yaml"
    }
   },
   "outputs": [],
   "source": [
    "---\n",
    "layout: post\n",
    "title: Local Storage In-Game\n",
    "author: Alex Van Linge\n",
    "description: The current usage of local storage in game \n",
    "permalink: /local-storage/in-game/\n",
    "menu: nav/local_storage.html\n",
    "toc: true\n",
    "---"
   ]
  },
  {
   "cell_type": "markdown",
   "metadata": {},
   "source": [
    "<br>"
   ]
  },
  {
   "cell_type": "markdown",
   "metadata": {},
   "source": [
    "# Usage of Local Storage in Game \n",
    "\n",
    "Currently in game, local storage is used in numerous of the js files for the platformer. \n",
    "\n",
    "One of the places where Local Storage is used is in `SettingsControl.js`, where it is used to save and load several settings in the game like the user ID, the current level, game speed, gravity, and difficulty\n",
    "\n",
    "```js\n",
    "localStorage.setItem('funFact', GameEnv.funFact);\n",
    "localStorage.setItem(lightmodekey, GameEnv.isLightMode);\n",
    "this.save(this.keys.userID);\n",
    "this.save(this.keys.currentLevel);\n",
    "this.save(this.keys.isInverted);\n",
    "this.save(this.keys.gameSpeed);\n",
    "this.save(this.keys.gravity);\n",
    "this.save(this.keys.difficulty);\n",
    "```\n",
    "\n",
    "Another place that it is used is in `GameControl.js`, where it is used for saving and loading game times. \n",
    "\n",
    "```js\n",
    "const data = {\n",
    "    userID: GameEnv.userID,\n",
    "    time: GameEnv.time - 10,\n",
    "    coinScore: GameEnv.coinScore,\n",
    "    date: Date(),\n",
    "    gameSpeed: GameEnv.gameSpeed,\n",
    "    difficulty: GameEnv.difficulty\n",
    "};\n",
    "\n",
    "const currDataList = JSON.parse(localStorage.getItem(this.localStorageTimeKey));\n",
    "\n",
    "if (!currDataList || !Array.isArray(currDataList)) {\n",
    "    localStorage.setItem(this.localStorageTimeKey, JSON.stringify([data]));\n",
    "    return;\n",
    "}\n",
    "\n",
    "currDataList.push(data);\n",
    "localStorage.setItem(this.localStorageTimeKey, JSON.stringify(currDataList));\n",
    "```\n",
    "\n",
    "To be more in depth, this code works by creating a data object, that collects several types of data like userID, coinScore, etc.\n",
    "\n",
    "After this it checks for saved data in localStorage with `this.localStorageTimekey` and if no data is found then it creates a new list with the current data and saves it \n",
    "\n",
    "Now if there is a list of saved data, then it adds new data to the list and then saves this updated list back into the local storage\n",
    "\n"
   ]
  }
 ],
 "metadata": {
  "kernelspec": {
   "display_name": "Python 3",
   "language": "python",
   "name": "python3"
  },
  "language_info": {
   "codemirror_mode": {
    "name": "ipython",
    "version": 3
   },
   "file_extension": ".py",
   "mimetype": "text/x-python",
   "name": "python",
   "nbconvert_exporter": "python",
   "pygments_lexer": "ipython3",
   "version": "3.12.3"
  }
 },
 "nbformat": 4,
 "nbformat_minor": 2
}
