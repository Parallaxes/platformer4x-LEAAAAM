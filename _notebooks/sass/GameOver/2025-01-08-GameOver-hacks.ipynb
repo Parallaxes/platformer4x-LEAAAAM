{
 "cells": [
  {
   "cell_type": "raw",
   "metadata": {
    "vscode": {
     "languageId": "raw"
    }
   },
   "source": [
    "---\n",
    "layout: post\n",
    "title: GameOver intro \n",
    "description: Understanding the concepts behind GameOver / transitions / and the leaderboard\n",
    "permalink: /GameOverHelp/hacks\n",
    "menu: nav/GameOverHelp.html\n",
    "toc: true\n",
    "---"
   ]
  }
 ],
 "metadata": {
  "language_info": {
   "name": "python"
  }
 },
 "nbformat": 4,
 "nbformat_minor": 2
}
