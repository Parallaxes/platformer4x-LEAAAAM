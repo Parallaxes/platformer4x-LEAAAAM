{
 "cells": [
  {
   "cell_type": "raw",
   "metadata": {
    "vscode": {
     "languageId": "raw"
    }
   },
   "source": [
    "---\n",
    "comments: true\n",
    "layout: post\n",
    "title: Introduction to platform and elevation in Platformer 4x\n",
    "categories: [Platforms]\n",
    "description: Introduction to how the platform and elevation works\n",
    "type: ccc\n",
    "permalink: _notbooks/Help/Platforms/intro_to_platform_and_elevation.ipynb\n",
    "author: Lara Banjac\n",
    "---"
   ]
  },
  {
   "cell_type": "markdown",
   "metadata": {},
   "source": [
    "<style>\n",
    "  h1 {\n",
    "    animation: glow 1s ease-in-out infinite alternate;\n",
    "    font-size: 3em; /* Increased font size */\n",
    "  }\n",
    "</style>\n",
    "\n",
    "<h1>\n",
    "  Introduction to platforms in Platformer 4x\n",
    "</h1>\n",
    "\n",
    "<style>\n",
    "@keyframes glow {\n",
    "  from {\n",
    "    text-shadow: 0 0 5px #fff, 0 0 10px #00f, 0 0 15px #00f, 0 0 20px #00f; /* Changed color to blue (#00f) */\n",
    "  }\n",
    "  to {\n",
    "    text-shadow: 0 0 20px #00f, 0 0 30px #00f, 0 0 40px #00f, 0 0 50px #00f; /* Changed color to blue (#00f) */\n",
    "  }\n",
    "}\n",
    "</style>\n",
    "\n",
    "<h5><span style=\"; color:#9999ff\"> Platforms are one of the base foundations of platformer 4x. After all, what would you do, if there wasn't a floor, paths or blocks to stand on? They are the building blocks that allow characters to traverse the game world. Without them, there would be no way to move, jump, or explore—leaving the game static and uninteresting. "
   ]
  },
  {
   "cell_type": "markdown",
   "metadata": {},
   "source": [
    "<style>\n",
    "  h1 {\n",
    "    animation: glow 1s ease-in-out infinite alternate;\n",
    "    font-size: 3em; /* Increased font size */\n",
    "  }\n",
    "</style>\n",
    "\n",
    "<h1>\n",
    "  Adding Platforms\n",
    "</h1>\n",
    "\n",
    "<style>\n",
    "@keyframes glow {\n",
    "  from {\n",
    "    text-shadow: 0 0 5px #fff, 0 0 10px #00f, 0 0 15px #00f, 0 0 20px #00f; /* Changed color to blue (#00f) */\n",
    "  }\n",
    "  to {\n",
    "    text-shadow: 0 0 20px #00f, 0 0 30px #00f, 0 0 40px #00f, 0 0 50px #00f; /* Changed color to blue (#00f) */\n",
    "  }\n",
    "}\n",
    "</style>\n",
    "\n",
    "<h5><span style=\"; color:#9999ff\"> To start off, we need to think about qualities a platform has\n"
   ]
  },
  {
   "cell_type": "markdown",
   "metadata": {},
   "source": [
    "positionion platforms tut"
   ]
  },
  {
   "cell_type": "markdown",
   "metadata": {},
   "source": [
    "designing platforms"
   ]
  },
  {
   "cell_type": "markdown",
   "metadata": {},
   "source": []
  },
  {
   "cell_type": "markdown",
   "metadata": {},
   "source": [
    "adding special platforms"
   ]
  }
 ],
 "metadata": {
  "language_info": {
   "name": "python"
  }
 },
 "nbformat": 4,
 "nbformat_minor": 2
}
