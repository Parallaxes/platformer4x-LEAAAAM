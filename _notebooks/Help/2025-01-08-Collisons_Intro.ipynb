{
 "cells": [
  {
   "cell_type": "raw",
   "metadata": {
    "vscode": {
     "languageId": "raw"
    }
   },
   "source": [
    "--- \n",
    "Layout Post\n",
    "Title Collisons Intro\n",
    "Date 2025-01-09\n",
    "---\n",
    "\n"
   ]
  },
  {
   "cell_type": "raw",
   "metadata": {
    "vscode": {
     "languageId": "raw"
    }
   },
   "source": [
    "what are Collisons?\n",
    "- collisons are the interactions between objects in a game. \n",
    "- collisons are used to detect when two objects are touching, and to make them react accordingly. for example, when a player character touches a wall,\n",
    " - collison is detected, and the player character is stopped from moving through the wall.\n",
    "- collisons are an important part of game development, as they help to create a sense of realism and immersion in the game world."
   ]
  },
  {
   "cell_type": "code",
   "execution_count": 4,
   "metadata": {
    "vscode": {
     "languageId": "javascript"
    }
   },
   "outputs": [
    {
     "data": {
      "text/html": [
       "if (this.collisionData.touchPoints.other.id === \"jumpPlatform\") {\n",
       "    // Collision with the left side of the Platform\n",
       "    console.log(\"id\");\n",
       "    if (this.collisionData.touchPoints.other.left && this.topOfPlatform) {\n",
       "        this.movement.right = false;\n",
       "        console.log(\"a\");\n",
       "    }\n",
       "    // Collision with the right side of the platform\n",
       "    if (this.collisionData.touchPoints.other.right && this.topOfPlatform) {\n",
       "        this.movement.left = false;\n",
       "        console.log(\"b\");\n",
       "    }\n",
       "    // Collision with the top of the player\n",
       "    if (this.collisionData.touchPoints.this.ontop) {\n",
       "        this.gravityEnabled = false;\n",
       "        console.log(\"c\");\n",
       "    }\n",
       "    if (this.collisionData.touchPoints.this.bottom) {\n",
       "        this.gravityEnabled = false;\n",
       "        console.log(\"d\");\n",
       "    }\n",
       "    if (this.collisionData.touchPoints.this.top) {\n",
       "        this.gravityEnabled = false;\n",
       "        this.topOfPlatform = true;\n",
       "        console.log(`${this.topOfPlatform} top`);\n",
       "        console.log(`${this.gravityEnabled} grav`);\n",
       "    }\n",
       "}\n"
      ],
      "text/plain": [
       "<IPython.core.display.HTML object>"
      ]
     },
     "metadata": {},
     "output_type": "display_data"
    }
   ],
   "source": [
    "%%html\n",
    "if (this.collisionData.touchPoints.other.id === \"jumpPlatform\") {\n",
    "    // Collision with the left side of the Platform\n",
    "    console.log(\"id\");\n",
    "    if (this.collisionData.touchPoints.other.left && this.topOfPlatform) {\n",
    "        this.movement.right = false;\n",
    "        console.log(\"a\");\n",
    "    }\n",
    "    // Collision with the right side of the platform\n",
    "    if (this.collisionData.touchPoints.other.right && this.topOfPlatform) {\n",
    "        this.movement.left = false;\n",
    "        console.log(\"b\");\n",
    "    }\n",
    "    // Collision with the top of the player\n",
    "    if (this.collisionData.touchPoints.this.ontop) {\n",
    "        this.gravityEnabled = false;\n",
    "        console.log(\"c\");\n",
    "    }\n",
    "    if (this.collisionData.touchPoints.this.bottom) {\n",
    "        this.gravityEnabled = false;\n",
    "        console.log(\"d\");\n",
    "    }\n",
    "    if (this.collisionData.touchPoints.this.top) {\n",
    "        this.gravityEnabled = false;\n",
    "        this.topOfPlatform = true;\n",
    "        console.log(`${this.topOfPlatform} top`);\n",
    "        console.log(`${this.gravityEnabled} grav`);\n",
    "    }\n",
    "}"
   ]
  },
  {
   "cell_type": "code",
   "execution_count": null,
   "metadata": {
    "vscode": {
     "languageId": "javascript"
    }
   },
   "outputs": [],
   "source": []
  }
 ],
 "metadata": {
  "kernelspec": {
   "display_name": "Python 3",
   "language": "python",
   "name": "python3"
  },
  "language_info": {
   "codemirror_mode": {
    "name": "ipython",
    "version": 3
   },
   "file_extension": ".py",
   "mimetype": "text/x-python",
   "name": "python",
   "nbconvert_exporter": "python",
   "pygments_lexer": "ipython3",
   "version": "3.12.3"
  }
 },
 "nbformat": 4,
 "nbformat_minor": 2
}
